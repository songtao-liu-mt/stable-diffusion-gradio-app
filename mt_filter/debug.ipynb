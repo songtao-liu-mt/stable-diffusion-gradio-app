{
 "cells": [
  {
   "cell_type": "code",
   "execution_count": 22,
   "id": "0ab7a9f9",
   "metadata": {},
   "outputs": [
    {
     "name": "stdout",
     "output_type": "stream",
     "text": [
      "Writing test.py\n"
     ]
    }
   ],
   "source": [
    "%%file test.py\n",
    "from filter import DFAFilter\n",
    "import json\n",
    "import os\n",
    "\n",
    "from nltk.stem import PorterStemmer\n",
    "from nltk.tokenize import word_tokenize\n",
    "\n",
    "detecter = DFAFilter()\n",
    "\n",
    "ps = PorterStemmer()\n",
    "\n",
    "data_root = './english/'\n",
    "\n",
    "def get_words(data_root):\n",
    "    data_path_list = [data_root + f for f in os.listdir(data_root)]\n",
    "\n",
    "    ret = []\n",
    "    for f in data_path_list:\n",
    "        if f.endswith('json'):\n",
    "            ret += json.load(open(f))\n",
    "        else:\n",
    "            for l in open(f):\n",
    "                ret += l.strip()\n",
    "\n",
    "    ret = sorted(list(set(ret)))\n",
    "\n",
    "    ret = [l for l in ret if len(l)>2]\n",
    "\n",
    "    print(f'get {len(ret)} bad words')\n",
    "\n",
    "    return ret\n",
    "\n",
    "bad_words = get_words(data_root)\n",
    "\n",
    "for bd in bad_words:\n",
    "    try:\n",
    "        detecter.add(bd)\n",
    "    except:\n",
    "        print(bd)\n",
    "\n",
    "inputs = 'sexy girl, fuck you, Trump is an asshole, very very beautiful'\n",
    "while True:\n",
    "    print(inputs)\n",
    "    print('=> ' + detecter.filter(inputs))\n",
    "    inputs = input()"
   ]
  },
  {
   "cell_type": "code",
   "execution_count": null,
   "id": "e9befeb2",
   "metadata": {},
   "outputs": [],
   "source": []
  }
 ],
 "metadata": {
  "kernelspec": {
   "display_name": "Python 3 (ipykernel)",
   "language": "python",
   "name": "python3"
  },
  "language_info": {
   "codemirror_mode": {
    "name": "ipython",
    "version": 3
   },
   "file_extension": ".py",
   "mimetype": "text/x-python",
   "name": "python",
   "nbconvert_exporter": "python",
   "pygments_lexer": "ipython3",
   "version": "3.8.10"
  }
 },
 "nbformat": 4,
 "nbformat_minor": 5
}
